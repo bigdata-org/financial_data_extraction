{
 "cells": [
  {
   "cell_type": "code",
   "execution_count": 1,
   "metadata": {},
   "outputs": [],
   "source": [
    "import pandas as pd"
   ]
  },
  {
   "cell_type": "code",
   "execution_count": 2,
   "metadata": {},
   "outputs": [],
   "source": [
    "df = pd.read_csv(r'C:\\Users\\sathy\\Downloads\\2024q4\\pre.txt', delimiter='\\t')"
   ]
  },
  {
   "cell_type": "code",
   "execution_count": 3,
   "metadata": {},
   "outputs": [
    {
     "name": "stdout",
     "output_type": "stream",
     "text": [
      "<class 'pandas.core.frame.DataFrame'>\n",
      "RangeIndex: 737504 entries, 0 to 737503\n",
      "Data columns (total 10 columns):\n",
      " #   Column    Non-Null Count   Dtype \n",
      "---  ------    --------------   ----- \n",
      " 0   adsh      737504 non-null  object\n",
      " 1   report    737504 non-null  int64 \n",
      " 2   line      737504 non-null  int64 \n",
      " 3   stmt      737355 non-null  object\n",
      " 4   inpth     737504 non-null  int64 \n",
      " 5   rfile     737504 non-null  object\n",
      " 6   tag       737504 non-null  object\n",
      " 7   version   737504 non-null  object\n",
      " 8   plabel    737261 non-null  object\n",
      " 9   negating  737504 non-null  int64 \n",
      "dtypes: int64(4), object(6)\n",
      "memory usage: 56.3+ MB\n"
     ]
    }
   ],
   "source": [
    "df.info()"
   ]
  }
 ],
 "metadata": {
  "kernelspec": {
   "display_name": ".venv",
   "language": "python",
   "name": "python3"
  },
  "language_info": {
   "codemirror_mode": {
    "name": "ipython",
    "version": 3
   },
   "file_extension": ".py",
   "mimetype": "text/x-python",
   "name": "python",
   "nbconvert_exporter": "python",
   "pygments_lexer": "ipython3",
   "version": "3.12.3"
  }
 },
 "nbformat": 4,
 "nbformat_minor": 2
}
