{
 "cells": [
  {
   "cell_type": "code",
   "execution_count": 3,
   "metadata": {},
   "outputs": [],
   "source": [
    "line1 = \"0001000623-18-000065\t1000623\tSCHWEITZER MAUDUIT INTERNATIONAL INC\t2621\tUS\tGA\tALPHARETTA\t30022-8246\t100 NORTH POINT CENTER EAST\tSUITE 600\t8005140186\tUS\tGA\tALPHARETTA\t30022-8246\t100 NORTH POINT CENTER EAST\tSUITE 600\tUS\tDE\t621612879\t\t\t1-LAF\t0\t1231\t10-Q\t20180331\t2018\tQ1\t20180502\t2018-05-02 16:18:00.0\t0\t1\tswm-20180331.xml\t1\t\""
   ]
  },
  {
   "cell_type": "code",
   "execution_count": 4,
   "metadata": {},
   "outputs": [
    {
     "name": "stderr",
     "output_type": "stream",
     "text": [
      "<>:1: SyntaxWarning: invalid escape sequence '\\D'\n",
      "<>:1: SyntaxWarning: invalid escape sequence '\\D'\n",
      "C:\\Users\\sathy\\AppData\\Local\\Temp\\ipykernel_56520\\1822568353.py:1: SyntaxWarning: invalid escape sequence '\\D'\n",
      "  line2 = \"0001000753-18-000031\t1000753\tINSPERITY, INC.\t7363\tUS\tTX\tKINGWOOD\t77339\t19001 CRESCENT SPRINGS DR\t\t7133588986\tUS\tTX\tKINGWOOD\t77339\t19001 CRESCENT SPRINGS DR\t\tUS\tDE\t760479645\tADMINISTAFF INC \\DE\\\t19950915\t1-LAF\t1\t1231\t10-Q\t20180331\t2018\tQ1\t20180430\t2018-04-30 17:10:00.0\"\n"
     ]
    }
   ],
   "source": [
    "line2 = \"0001000753-18-000031\t1000753\tINSPERITY, INC.\t7363\tUS\tTX\tKINGWOOD\t77339\t19001 CRESCENT SPRINGS DR\t\t7133588986\tUS\tTX\tKINGWOOD\t77339\t19001 CRESCENT SPRINGS DR\t\tUS\tDE\t760479645\tADMINISTAFF INC \\DE\\\t19950915\t1-LAF\t1\t1231\t10-Q\t20180331\t2018\tQ1\t20180430\t2018-04-30 17:10:00.0\""
   ]
  },
  {
   "cell_type": "code",
   "execution_count": null,
   "metadata": {},
   "outputs": [],
   "source": []
  }
 ],
 "metadata": {
  "kernelspec": {
   "display_name": ".fastapi-venv",
   "language": "python",
   "name": "python3"
  },
  "language_info": {
   "codemirror_mode": {
    "name": "ipython",
    "version": 3
   },
   "file_extension": ".py",
   "mimetype": "text/x-python",
   "name": "python",
   "nbconvert_exporter": "python",
   "pygments_lexer": "ipython3",
   "version": "3.12.3"
  }
 },
 "nbformat": 4,
 "nbformat_minor": 2
}
