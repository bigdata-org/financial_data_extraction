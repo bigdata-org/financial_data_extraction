{
 "cells": [
  {
   "cell_type": "code",
   "execution_count": 3,
   "metadata": {},
   "outputs": [],
   "source": [
    "with open('C:\\\\Users\\\\sathy\\\\Downloads\\\\2018q2\\\\sub.txt', 'rb') as f:\n",
    "    file_data = f.read()"
   ]
  },
  {
   "cell_type": "code",
   "execution_count": 4,
   "metadata": {},
   "outputs": [],
   "source": [
    "cleaned_data = file_data.replace(b\"\\\\\", b\"\")"
   ]
  },
  {
   "cell_type": "code",
   "execution_count": 5,
   "metadata": {},
   "outputs": [],
   "source": [
    "from utils.aws.s3 import get_s3_client"
   ]
  },
  {
   "cell_type": "code",
   "execution_count": 6,
   "metadata": {},
   "outputs": [],
   "source": [
    "conn = get_s3_client()"
   ]
  },
  {
   "cell_type": "code",
   "execution_count": 7,
   "metadata": {},
   "outputs": [
    {
     "data": {
      "text/plain": [
       "{'ResponseMetadata': {'RequestId': 'K9HPMXB81Q5S6KJS',\n",
       "  'HostId': 'GW5HeitMunQ65LrrWtex+6USr8JQ0zpy3+5JqMhq1OwP+T7l1uGPDupxbRFtarTnFJDAsk02o5Q=',\n",
       "  'HTTPStatusCode': 200,\n",
       "  'HTTPHeaders': {'x-amz-id-2': 'GW5HeitMunQ65LrrWtex+6USr8JQ0zpy3+5JqMhq1OwP+T7l1uGPDupxbRFtarTnFJDAsk02o5Q=',\n",
       "   'x-amz-request-id': 'K9HPMXB81Q5S6KJS',\n",
       "   'date': 'Thu, 13 Feb 2025 22:42:57 GMT',\n",
       "   'x-amz-server-side-encryption': 'AES256',\n",
       "   'etag': '\"8c786222869d1da14d4f59d5796d0377\"',\n",
       "   'x-amz-checksum-crc32': 'CRaZkQ==',\n",
       "   'x-amz-checksum-type': 'FULL_OBJECT',\n",
       "   'content-length': '0',\n",
       "   'server': 'AmazonS3'},\n",
       "  'RetryAttempts': 0},\n",
       " 'ETag': '\"8c786222869d1da14d4f59d5796d0377\"',\n",
       " 'ChecksumCRC32': 'CRaZkQ==',\n",
       " 'ChecksumType': 'FULL_OBJECT',\n",
       " 'ServerSideEncryption': 'AES256'}"
      ]
     },
     "execution_count": 7,
     "metadata": {},
     "output_type": "execute_result"
    }
   ],
   "source": [
    "conn.put_object(Bucket='sfopenaccessbucket', Key='random.tsv', Body=cleaned_data)\n"
   ]
  }
 ],
 "metadata": {
  "kernelspec": {
   "display_name": ".fastapi-venv",
   "language": "python",
   "name": "python3"
  },
  "language_info": {
   "codemirror_mode": {
    "name": "ipython",
    "version": 3
   },
   "file_extension": ".py",
   "mimetype": "text/x-python",
   "name": "python",
   "nbconvert_exporter": "python",
   "pygments_lexer": "ipython3",
   "version": "3.12.3"
  }
 },
 "nbformat": 4,
 "nbformat_minor": 2
}
